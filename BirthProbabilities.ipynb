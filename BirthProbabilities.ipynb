{
 "cells": [
  {
   "cell_type": "code",
   "execution_count": 1,
   "metadata": {},
   "outputs": [],
   "source": [
    "import numpy as np\n",
    "import scipy.stats\n",
    "import matplotlib.pyplot as plt"
   ]
  },
  {
   "cell_type": "markdown",
   "metadata": {},
   "source": [
    "## Helper Functions"
   ]
  },
  {
   "cell_type": "code",
   "execution_count": 2,
   "metadata": {},
   "outputs": [],
   "source": [
    "def getIndexAtWeek(week, w):\n",
    "    dw = w[1] - w[0]\n",
    "    firstValue = w[0]\n",
    "    return int((week - firstValue)/dw)\n",
    "\n",
    "def getProbabilityBetweenWeeks(week1, week2, w, p):\n",
    "    w1Index = getIndexAtWeek(week1, w)\n",
    "    w2Index = getIndexAtWeek(week2, w)\n",
    "    dw = w[1]-w[0]\n",
    "    return (np.sum(p[:w2Index]) - np.sum(p[:w1Index]))*dw\n",
    "\n",
    "def getConditionalProbabilityBetweenWeeks(week1, week2, w, p):\n",
    "    probW1W2 = getProbabilityBetweenWeeks(week1, week2, w, p)\n",
    "    probW1ToEnd = getProbabilityBetweenWeeks(week1, 100, w, p)\n",
    "    return probW1W2 / probW1ToEnd\n",
    "\n",
    "def plotProbabilityBetweenWeeks(week1 ,week2, w, p):\n",
    "    plt.plot(w, p)\n",
    "    plt.vlines(week1, 0, p[getIndexAtWeek(week1, w)])\n",
    "    plt.vlines(week2,0, p[getIndexAtWeek(week2, w)])\n",
    "    plt.show()"
   ]
  },
  {
   "cell_type": "markdown",
   "metadata": {},
   "source": [
    "## Find the best fitting parameters"
   ]
  },
  {
   "cell_type": "code",
   "execution_count": 14,
   "metadata": {},
   "outputs": [],
   "source": [
    "def getError(a, loc, scale, printStats=False):\n",
    "        \n",
    "    weeks = np.linspace(30.0, 50.0, 401)    \n",
    "    prob = scipy.stats.skewnorm.pdf(weeks, a, loc, scale)\n",
    "    p34_36 = getProbabilityBetweenWeeks(34, 37, weeks , prob)\n",
    "    p37_38 = getProbabilityBetweenWeeks(37, 39, weeks , prob)\n",
    "    p39_40 = getProbabilityBetweenWeeks(39, 41, weeks , prob)\n",
    "    p41_end = getProbabilityBetweenWeeks(41, 50, weeks , prob)\n",
    "\n",
    "    # Taken from Table 21 of CDC https://www.cdc.gov/nchs/data/nvsr/nvsr72/nvsr72-01.pdf\n",
    "    p34_36_cdc = 0.0767\n",
    "    p37_38_cdc = 0.2876\n",
    "    p39_40_cdc = 0.5590\n",
    "    p41_end_cdc = 0.0461\n",
    "\n",
    "    p34_36_error = np.sqrt((p34_36-p34_36_cdc)**2)\n",
    "    p37_38_error = np.sqrt((p37_38-p37_38_cdc)**2)\n",
    "    p39_40_error = np.sqrt((p39_40-p39_40_cdc)**2)\n",
    "    p41_end_error = np.sqrt((p41_end-p41_end_cdc)**2)\n",
    "    totalError = p34_36_error + p37_38_error + p39_40_error + p41_end_error\n",
    "    \n",
    "    if printStats:\n",
    "        print(totalError)\n",
    "        print(\"Ours:  %.2f %.2f %.2f %.3f\"%(p34_36, p37_38, p39_40, p41_end))\n",
    "        print(\"CDC:   %.2f %.2f %.2f %.3f\"%(p34_36_cdc, p37_38_cdc, p39_40_cdc, p41_end_cdc))\n",
    "        print(\"Error: %.2f %.2f %.2f %.3f\"%(p34_36_error, p37_38_error, p39_40_error, p41_end_error))    \n",
    "    return totalError\n",
    "\n"
   ]
  },
  {
   "cell_type": "markdown",
   "metadata": {},
   "source": [
    "## Search Over Grid of 20 Values"
   ]
  },
  {
   "cell_type": "code",
   "execution_count": 18,
   "metadata": {},
   "outputs": [],
   "source": [
    "na = 20\n",
    "ns = 20\n",
    "nl = 20\n",
    "params = []\n",
    "errors = []\n",
    "for a in np.linspace(-15.0, -2.0, na):\n",
    "    for scale in np.linspace(0.1, 5.0, ns):\n",
    "        for loc in np.linspace(37, 41, nl):\n",
    "            params += [(a, loc, scale)]\n",
    "            errors += [getError(a, loc, scale)]"
   ]
  },
  {
   "cell_type": "code",
   "execution_count": 19,
   "metadata": {},
   "outputs": [
    {
     "name": "stdout",
     "output_type": "stream",
     "text": [
      "(-8.842105263157894, 41.0, 2.421052631578948)\n"
     ]
    }
   ],
   "source": [
    "minParamIndex = np.argmin(errors)\n",
    "print(params[minParamIndex])\n",
    "aMin, locMin, scaleMin = params[minParamIndex]"
   ]
  },
  {
   "cell_type": "code",
   "execution_count": 20,
   "metadata": {},
   "outputs": [
    {
     "name": "stdout",
     "output_type": "stream",
     "text": [
      "0.027125818446126812\n",
      "Ours:  0.09 0.30 0.56 0.049\n",
      "CDC:   0.08 0.29 0.56 0.046\n",
      "Error: 0.01 0.01 0.00 0.003\n"
     ]
    },
    {
     "data": {
      "text/plain": [
       "0.027125818446126812"
      ]
     },
     "execution_count": 20,
     "metadata": {},
     "output_type": "execute_result"
    }
   ],
   "source": [
    "getError(aMin,locMin,scaleMin, True)"
   ]
  },
  {
   "cell_type": "code",
   "execution_count": 21,
   "metadata": {},
   "outputs": [
    {
     "data": {
      "text/plain": [
       "Text(0.5, 0, 'Weeks')"
      ]
     },
     "execution_count": 21,
     "metadata": {},
     "output_type": "execute_result"
    },
    {
     "data": {
      "image/png": "[encoded data removed]",
      "text/plain": [
       "<Figure size 432x288 with 1 Axes>"
      ]
     },
     "metadata": {
      "needs_background": "light"
     },
     "output_type": "display_data"
    }
   ],
   "source": [
    "w = np.linspace(35.0, 45.0, 100) \n",
    "probMin = scipy.stats.skewnorm.pdf(w, aMin, locMin, scaleMin)\n",
    "plt.plot(w, probMin)\n",
    "plt.xlabel(\"Weeks\")"
   ]
  },
  {
   "cell_type": "code",
   "execution_count": null,
   "metadata": {},
   "outputs": [],
   "source": []
  }
 ],
 "metadata": {
  "kernelspec": {
   "display_name": "Python 3",
   "language": "python",
   "name": "python3"
  },
  "language_info": {
   "codemirror_mode": {
    "name": "ipython",
    "version": 3
   },
   "file_extension": ".py",
   "mimetype": "text/x-python",
   "name": "python",
   "nbconvert_exporter": "python",
   "pygments_lexer": "ipython3",
   "version": "3.7.7"
  }
 },
 "nbformat": 4,
 "nbformat_minor": 4
}
